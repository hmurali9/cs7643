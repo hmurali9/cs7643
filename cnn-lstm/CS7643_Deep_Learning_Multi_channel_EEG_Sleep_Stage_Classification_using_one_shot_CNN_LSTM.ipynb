{
  "nbformat": 4,
  "nbformat_minor": 0,
  "metadata": {
    "colab": {
      "name": "CS7643 Deep Learning - Multi channel EEG Sleep Stage Classification using one shot CNN-LSTM",
      "provenance": [],
      "collapsed_sections": [],
      "machine_shape": "hm",
      "background_execution": "on"
    },
    "kernelspec": {
      "name": "python3",
      "display_name": "Python 3"
    },
    "language_info": {
      "name": "python"
    },
    "accelerator": "GPU",
    "gpuClass": "standard"
  },
  "cells": [
    {
      "cell_type": "markdown",
      "source": [
        "# One-shot Sleep Stage Classification Deep learning model using CNN-LSTM"
      ],
      "metadata": {
        "id": "iZhOeJSowME7"
      }
    },
    {
      "cell_type": "markdown",
      "source": [
        "### Installing additional libraries for Colab"
      ],
      "metadata": {
        "id": "XCj7iXF62xfp"
      }
    },
    {
      "cell_type": "code",
      "execution_count": 4,
      "metadata": {
        "id": "TnLoS_b30ReZ"
      },
      "outputs": [],
      "source": [
        "# !pip install mne"
      ]
    },
    {
      "cell_type": "markdown",
      "source": [
        "### Importing libraries"
      ],
      "metadata": {
        "id": "GmL7LU9J264K"
      }
    },
    {
      "cell_type": "code",
      "source": [
        "import mne\n",
        "import os\n",
        "import io\n",
        "import scipy.io as scio\n",
        "from scipy import signal\n",
        "import numpy as np\n",
        "from google.colab import drive\n",
        "import torch\n",
        "import gc\n",
        "from sklearn.model_selection import train_test_split\n",
        "from collections import Counter\n",
        "import matplotlib.pyplot as plt\n",
        "from imblearn.over_sampling import SMOTE\n",
        "from imblearn.combine import SMOTEENN, SMOTETomek\n",
        "from imblearn.under_sampling import EditedNearestNeighbours, TomekLinks, RandomUnderSampler\n",
        "from tensorflow.keras.layers import Conv1D,BatchNormalization,LeakyReLU,MaxPool1D,\\\n",
        "GlobalAveragePooling1D,Dense,Dropout,AveragePooling1D, Flatten, LSTM, LeakyReLU\n",
        "from tensorflow.keras.models import Sequential\n",
        "from tensorflow.keras.backend import clear_session\n",
        "import tensorflow as tf\n",
        "import keras\n",
        "from tensorflow.keras.utils import Sequence\n",
        "import numpy as np  \n",
        "import math \n",
        "from sklearn import metrics\n",
        "\n",
        "sess = tf.compat.v1.Session(config=tf.compat.v1.ConfigProto(log_device_placement=True))\n",
        "keras.backend.set_session(sess)\n",
        "\n",
        "tf.random.set_seed(1)\n",
        "epochs = 40"
      ],
      "metadata": {
        "id": "jtecwckF2s_2",
        "colab": {
          "base_uri": "https://localhost:8080/"
        },
        "outputId": "c039314b-2f30-40d6-b78e-1ea941e35f60"
      },
      "execution_count": 5,
      "outputs": [
        {
          "output_type": "stream",
          "name": "stdout",
          "text": [
            "Device mapping:\n",
            "/job:localhost/replica:0/task:0/device:GPU:0 -> device: 0, name: Tesla P100-PCIE-16GB, pci bus id: 0000:00:04.0, compute capability: 6.0\n",
            "\n"
          ]
        }
      ]
    },
    {
      "cell_type": "code",
      "source": [
        "channels = ['C3_A2', 'C4_A1', 'F3_A2', 'F4_A1', 'O1_A2', 'O2_A1']\n",
        "drive_path = 'CS7643-FinalProject/'"
      ],
      "metadata": {
        "id": "PgdAZdHyt2GX"
      },
      "execution_count": 6,
      "outputs": []
    },
    {
      "cell_type": "markdown",
      "source": [
        "## One-time pre-processing"
      ],
      "metadata": {
        "id": "-C0wNe3psobG"
      }
    },
    {
      "cell_type": "markdown",
      "source": [
        "This process is to Download the data from the ISRUC-SLEEP extracted channel dataset which has the MAT files and the .rar datasets which has the label information.<br>\n",
        "This is a one-time setup process to generate a compressed multi-array numpy .npz file which has the raw data in the ExCxT format where E is the number of epochs, C is the number of channels and T is the sequence of values recorded at different timesteps. This object also has the label information for both the reviewers and the length of epochs for each fold.  "
      ],
      "metadata": {
        "id": "lA0Uho7hsrcJ"
      }
    },
    {
      "cell_type": "code",
      "source": [
        "%%capture\n",
        "\n",
        "# Set this to true to generate and save a new .NPZ data extract after processing\n",
        "EXTRACT_NPZ_FILE = False\n",
        "\n",
        "def read_eeg_data(file_path, subject_id, channel_list, resample=3000):\n",
        "    eeg_raw = scio.loadmat(os.path.join(file_path, 'rawdata', f'subject{subject_id}.mat'))\n",
        "    appended_eeg = []\n",
        "    for c in channel_list:\n",
        "        appended_eeg.append(\n",
        "            np.expand_dims(signal.resample(eeg_raw[c], resample, axis=-1), 1))\n",
        "    appended_eeg = np.concatenate(appended_eeg, axis=1)\n",
        "    return appended_eeg\n",
        "\n",
        "def read_eeg_datalabel(file_path, subject_id, reviewer):\n",
        "    label = []\n",
        "    with open(os.path.join(file_path, 'labeldata', f'{subject_id}/{subject_id}_{reviewer}.txt')) as f:\n",
        "        s = f.readline()\n",
        "        while True:\n",
        "            a = s.replace('\\n', '')\n",
        "            label.append(int(a))\n",
        "            s = f.readline()\n",
        "            if s == '' or s == '\\n':\n",
        "                break\n",
        "    return np.array(label[:-30])\n",
        "\n",
        "if EXTRACT_NPZ_FILE:\n",
        "  # Create temporary directories in Colab\n",
        "  !mkdir CS7643-FinalProject\n",
        "  !mkdir CS7643-FinalProject/rawdata\n",
        "  !mkdir CS7643-FinalProject/labeldata\n",
        "\n",
        "  # Downloading Label data\n",
        "  for i in range(1,101):\n",
        "    !wget --directory-prefix=CS7643-FinalProject/labeldata http://dataset.isr.uc.pt/ISRUC_Sleep/subgroupI/{i}.rar\n",
        "    !unrar x -o+ CS7643-FinalProject/labeldata/{i}.rar CS7643-FinalProject/labeldata/\n",
        "    !rm CS7643-FinalProject/labeldata/{i}.rar\n",
        "\n",
        "  # Downloading MAT raw data\n",
        "  for i in range(1,101):\n",
        "    !wget --directory-prefix=CS7643-FinalProject/rawdata http://dataset.isr.uc.pt/ISRUC_Sleep/ExtractedChannels/subgroupI-Extractedchannels/subject{i}.mat  \n",
        "\n",
        "  # Extracting, formatting and storing tensors and arrays for raw data and label data for each fold/group/subject\n",
        "  data_group = []\n",
        "  label_group = []\n",
        "  len_group = []\n",
        "\n",
        "  for sub in range(1,101):\n",
        "    label_reviewer_1 = read_eeg_datalabel(drive_path, sub, 1)\n",
        "    label_reviewer_2 = read_eeg_datalabel(drive_path, sub, 2)\n",
        "    eeg = read_eeg_data(drive_path, sub, channels)\n",
        "\n",
        "    label_reviewer_1[label_reviewer_1==5] = 4\n",
        "    label_reviewer_2[label_reviewer_2==5] = 4\n",
        "\n",
        "    equal_label = label_reviewer_1[label_reviewer_1==label_reviewer_2]\n",
        "\n",
        "    label_group.append(equal_label)\n",
        "\n",
        "    data_group.append(eeg[label_reviewer_1==label_reviewer_2])\n",
        "    len_group.append(len(label_reviewer_1)) \n",
        "\n",
        "  # Saving the entire struct as a single .npz compressed file\n",
        "  np.savez_compressed(os.path.join(drive_path, 'ISRUC_PROCESSED_DATA_FINAL.npz'),\n",
        "      DATA_GROUP = data_group,\n",
        "      LABEL_GROUP = label_group,\n",
        "      LEN_GROUP = len_group\n",
        "  )\n",
        "\n",
        "  # Saving the .npz file in GDrive\n",
        "  drive.mount('/content/drive')\n",
        "  !cp CS7643-FinalProject/ISRUC_PROCESSED_DATA_FINAL.npz drive/MyDrive/CS-7643-FinalProject/ISRUC_PROCESSED_DATA_FINAL.npz"
      ],
      "metadata": {
        "id": "aTFiT4FCtihV"
      },
      "execution_count": 7,
      "outputs": []
    },
    {
      "cell_type": "markdown",
      "source": [
        "## Importing and setting up the Data"
      ],
      "metadata": {
        "id": "bJ7bpTgl4muW"
      }
    },
    {
      "cell_type": "markdown",
      "source": [
        "Copying the NPZ file from the GDrive to local Colab env - Run for the first time to fetch the data npz file"
      ],
      "metadata": {
        "id": "HXhWmu4mvrgj"
      }
    },
    {
      "cell_type": "code",
      "source": [
        "drive.mount('/content/drive')\n",
        "!mkdir CS7643-FinalProject\n",
        "!cp /content/drive/MyDrive/CS-7643-FinalProject/ISRUC_PROCESSED_DATA_FINAL.npz CS7643-FinalProject/ISRUC_PROCESSED_DATA_FINAL.npz"
      ],
      "metadata": {
        "id": "gThiinfkvZUx",
        "colab": {
          "base_uri": "https://localhost:8080/"
        },
        "outputId": "33c7e57b-d7a0-4bf1-e0f0-c9f98abbd7fc"
      },
      "execution_count": 8,
      "outputs": [
        {
          "output_type": "stream",
          "name": "stdout",
          "text": [
            "Mounted at /content/drive\n"
          ]
        }
      ]
    },
    {
      "cell_type": "code",
      "source": [
        "npz_object = np.load(os.path.join(drive_path, 'ISRUC_PROCESSED_DATA_FINAL.npz'), allow_pickle=True)\n",
        "\n",
        "data_group = npz_object['DATA_GROUP']\n",
        "label_group = npz_object['LABEL_GROUP']\n",
        "len_group = npz_object['LEN_GROUP']"
      ],
      "metadata": {
        "id": "vfmIjNSBvcyZ"
      },
      "execution_count": 41,
      "outputs": []
    },
    {
      "cell_type": "code",
      "source": [
        "# Removing the 17th index subject - Not sure why but on input the data is of size 0 for the 17th subject. So just ignoring the 600 entries for this subject\n",
        "data_group = np.delete(data_group, 17)\n",
        "label_group = np.delete(label_group, 17)"
      ],
      "metadata": {
        "id": "PEeFy0RsBKbE"
      },
      "execution_count": 42,
      "outputs": []
    },
    {
      "cell_type": "code",
      "source": [
        "X = np.vstack(data_group)\n",
        "y = np.hstack(label_group)"
      ],
      "metadata": {
        "id": "oefGrR-ysK9m"
      },
      "execution_count": 43,
      "outputs": []
    },
    {
      "cell_type": "code",
      "source": [
        "# Reshaping the input data from (Epochs, Channels, Timestamps) to (Epochs, Timestamps, Channels) for Keras format\n",
        "X = np.moveaxis(X, 1, 2)\n",
        "X.shape, y.shape"
      ],
      "metadata": {
        "colab": {
          "base_uri": "https://localhost:8080/"
        },
        "id": "cbwdNaJ6YLPf",
        "outputId": "7fd39dd5-e43e-4325-b1e2-04155ee43d5d"
      },
      "execution_count": 44,
      "outputs": [
        {
          "output_type": "execute_result",
          "data": {
            "text/plain": [
              "((70595, 3000, 6), (70595,))"
            ]
          },
          "metadata": {},
          "execution_count": 44
        }
      ]
    },
    {
      "cell_type": "code",
      "source": [
        "# Removing npz data groups from memory\n",
        "del data_group, label_group, len_group"
      ],
      "metadata": {
        "id": "hJUCcvnQgplr"
      },
      "execution_count": 45,
      "outputs": []
    },
    {
      "cell_type": "code",
      "source": [
        "X_train, X_rem, y_train, y_rem = train_test_split(X, y, train_size=0.8)\n",
        "X_valid, X_test, y_valid, y_test = train_test_split(X_rem, y_rem, test_size=0.5)"
      ],
      "metadata": {
        "id": "hvExKjWDrdky"
      },
      "execution_count": 46,
      "outputs": []
    },
    {
      "cell_type": "code",
      "source": [
        "X_train.shape, y_train.shape, X_valid.shape, y_valid.shape"
      ],
      "metadata": {
        "colab": {
          "base_uri": "https://localhost:8080/"
        },
        "id": "C8sC6tGsyinG",
        "outputId": "d47ff4e1-62c0-4092-be09-193fab91700c"
      },
      "execution_count": 47,
      "outputs": [
        {
          "output_type": "execute_result",
          "data": {
            "text/plain": [
              "((56476, 3000, 6), (56476,), (7059, 3000, 6), (7059,))"
            ]
          },
          "metadata": {},
          "execution_count": 47
        }
      ]
    },
    {
      "cell_type": "code",
      "source": [
        "del X, y"
      ],
      "metadata": {
        "id": "Ebr6ai86jgwI"
      },
      "execution_count": 48,
      "outputs": []
    },
    {
      "cell_type": "code",
      "source": [
        "# Oversampling using SMOTE only on the Training data\n",
        "plt.bar(Counter(y_train).keys(), Counter(y_train).values())\n",
        "plt.title(\"Distribution of Sleep stages (Training data)\")"
      ],
      "metadata": {
        "colab": {
          "base_uri": "https://localhost:8080/",
          "height": 298
        },
        "id": "lrWpOpWNccIq",
        "outputId": "94d11ff5-6e7d-4f3b-831d-b0868e8a9954"
      },
      "execution_count": 49,
      "outputs": [
        {
          "output_type": "execute_result",
          "data": {
            "text/plain": [
              "Text(0.5, 1.0, 'Distribution of Sleep stages (Training data)')"
            ]
          },
          "metadata": {},
          "execution_count": 49
        },
        {
          "output_type": "display_data",
          "data": {
            "text/plain": [
              "<Figure size 432x288 with 1 Axes>"
            ],
            "image/png": "[encoded data removed]"
          },
          "metadata": {
            "needs_background": "light"
          }
        }
      ]
    },
    {
      "cell_type": "code",
      "source": [
        "# Oversampling minority class only using SMOTE on training data\n",
        "\n",
        "oversample = SMOTE(sampling_strategy={1:5000}, n_jobs=-1)\n",
        "# undersample = RandomUnderSampler(sampling_strategy={0:12500,2:13000})\n",
        "orig_shape = X_train.shape\n",
        "X_train = X_train.reshape(len(X_train), -1)\n",
        "Xo, yo = oversample.fit_resample(X_train, y_train)\n",
        "# Xo, yo = undersample.fit_resample(Xo, yo)\n",
        "\n",
        "del X_train, y_train\n",
        "\n",
        "X_train = Xo.reshape(-1, *orig_shape[1:])\n",
        "y_train = yo\n",
        "\n",
        "del Xo, yo\n",
        "\n",
        "print(X_train.shape, y_train.shape)\n",
        "plt.bar(Counter(y_train).keys(), Counter(y_train).values())\n",
        "plt.title(\"Distribution of Sleep stages (After SMOTE oversampling\")"
      ],
      "metadata": {
        "colab": {
          "base_uri": "https://localhost:8080/",
          "height": 316
        },
        "id": "ZJCe1xWpccLI",
        "outputId": "fb20aa9f-419e-485a-fc1c-5290d45fe279"
      },
      "execution_count": 50,
      "outputs": [
        {
          "output_type": "stream",
          "name": "stdout",
          "text": [
            "(57297, 3000, 6) (57297,)\n"
          ]
        },
        {
          "output_type": "execute_result",
          "data": {
            "text/plain": [
              "Text(0.5, 1.0, 'Distribution of Sleep stages (After SMOTE oversampling')"
            ]
          },
          "metadata": {},
          "execution_count": 50
        },
        {
          "output_type": "display_data",
          "data": {
            "text/plain": [
              "<Figure size 432x288 with 1 Axes>"
            ],
            "image/png": "[encoded data removed]"
          },
          "metadata": {
            "needs_background": "light"
          }
        }
      ]
    },
    {
      "cell_type": "code",
      "source": [
        "print(X_train.shape, y_train.shape, X_valid.shape, y_valid.shape)"
      ],
      "metadata": {
        "colab": {
          "base_uri": "https://localhost:8080/"
        },
        "id": "y4Dd-vqvrhpf",
        "outputId": "f4647d25-0dc5-440b-f76a-5ee6d3bbadb6"
      },
      "execution_count": 51,
      "outputs": [
        {
          "output_type": "stream",
          "name": "stdout",
          "text": [
            "(57297, 3000, 6) (57297,) (7059, 3000, 6) (7059,)\n"
          ]
        }
      ]
    },
    {
      "cell_type": "markdown",
      "source": [
        "## Deep learning model training (Keras)"
      ],
      "metadata": {
        "id": "VBUDE0Wnrbd3"
      }
    },
    {
      "cell_type": "code",
      "source": [
        "cnnLstmModel = Sequential()\n",
        "cnnLstmModel.add(Conv1D(12, 2, activation='relu',name = 'base1',input_shape=(3000,6), padding='same'))\n",
        "cnnLstmModel.add(Conv1D(12, 2, activation='relu',name = 'base2', padding='same'))\n",
        "cnnLstmModel.add(Conv1D(12, 2, activation='relu',name = 'base3', padding='same'))\n",
        "cnnLstmModel.add(MaxPool1D(2,2))\n",
        "\n",
        "cnnLstmModel.add(Conv1D(24, 4, activation='relu',name = 'base4', padding='same'))\n",
        "cnnLstmModel.add(Conv1D(24, 4, activation='relu',name = 'base5', padding='same'))\n",
        "cnnLstmModel.add(Conv1D(24, 4, activation='relu',name = 'base6', padding='same'))\n",
        "cnnLstmModel.add(MaxPool1D(2,2))\n",
        "\n",
        "cnnLstmModel.add(Conv1D(48, 6, activation='relu',name = 'base7', padding='same'))\n",
        "cnnLstmModel.add(Conv1D(48, 6, activation='relu',name = 'base8', padding='same'))\n",
        "cnnLstmModel.add(Conv1D(48, 6, activation='relu',name = 'base9', padding='same'))\n",
        "cnnLstmModel.add(MaxPool1D(2,2))\n",
        "\n",
        "cnnLstmModel.add(Conv1D(96, 8, activation='relu',name = 'base10', padding='same'))\n",
        "cnnLstmModel.add(Conv1D(96, 8, activation='relu',name = 'base11', padding='same'))\n",
        "cnnLstmModel.add(Conv1D(96, 8, activation='relu',name = 'base12', padding='same'))\n",
        "cnnLstmModel.add(MaxPool1D(2,2))\n",
        "\n",
        "cnnLstmModel.add(LSTM(12, return_sequences=True))\n",
        "cnnLstmModel.add(LSTM(12))\n",
        "\n",
        "cnnLstmModel.add(Flatten(name = 'flatten'))\n",
        "cnnLstmModel.add(Dense(1024))\n",
        "cnnLstmModel.add(Dense(512))\n",
        "cnnLstmModel.add(Dense(5))"
      ],
      "metadata": {
        "id": "ZVYy0wYQsBq5"
      },
      "execution_count": 52,
      "outputs": []
    },
    {
      "cell_type": "code",
      "source": [
        "cnnLstmModel.summary()"
      ],
      "metadata": {
        "colab": {
          "base_uri": "https://localhost:8080/"
        },
        "id": "psTGEQ1ljg-T",
        "outputId": "32bfc500-6df9-4934-e06e-a0e8734d3fe5"
      },
      "execution_count": 53,
      "outputs": [
        {
          "output_type": "stream",
          "name": "stdout",
          "text": [
            "Model: \"sequential_1\"\n",
            "_________________________________________________________________\n",
            " Layer (type)                Output Shape              Param #   \n",
            "=================================================================\n",
            " base1 (Conv1D)              (None, 3000, 12)          156       \n",
            "                                                                 \n",
            " base2 (Conv1D)              (None, 3000, 12)          300       \n",
            "                                                                 \n",
            " base3 (Conv1D)              (None, 3000, 12)          300       \n",
            "                                                                 \n",
            " max_pooling1d_4 (MaxPooling  (None, 1500, 12)         0         \n",
            " 1D)                                                             \n",
            "                                                                 \n",
            " base4 (Conv1D)              (None, 1500, 24)          1176      \n",
            "                                                                 \n",
            " base5 (Conv1D)              (None, 1500, 24)          2328      \n",
            "                                                                 \n",
            " base6 (Conv1D)              (None, 1500, 24)          2328      \n",
            "                                                                 \n",
            " max_pooling1d_5 (MaxPooling  (None, 750, 24)          0         \n",
            " 1D)                                                             \n",
            "                                                                 \n",
            " base7 (Conv1D)              (None, 750, 48)           6960      \n",
            "                                                                 \n",
            " base8 (Conv1D)              (None, 750, 48)           13872     \n",
            "                                                                 \n",
            " base9 (Conv1D)              (None, 750, 48)           13872     \n",
            "                                                                 \n",
            " max_pooling1d_6 (MaxPooling  (None, 375, 48)          0         \n",
            " 1D)                                                             \n",
            "                                                                 \n",
            " base10 (Conv1D)             (None, 375, 96)           36960     \n",
            "                                                                 \n",
            " base11 (Conv1D)             (None, 375, 96)           73824     \n",
            "                                                                 \n",
            " base12 (Conv1D)             (None, 375, 96)           73824     \n",
            "                                                                 \n",
            " max_pooling1d_7 (MaxPooling  (None, 187, 96)          0         \n",
            " 1D)                                                             \n",
            "                                                                 \n",
            " lstm_2 (LSTM)               (None, 187, 12)           5232      \n",
            "                                                                 \n",
            " lstm_3 (LSTM)               (None, 12)                1200      \n",
            "                                                                 \n",
            " flatten (Flatten)           (None, 12)                0         \n",
            "                                                                 \n",
            " dense_3 (Dense)             (None, 1024)              13312     \n",
            "                                                                 \n",
            " dense_4 (Dense)             (None, 512)               524800    \n",
            "                                                                 \n",
            " dense_5 (Dense)             (None, 5)                 2565      \n",
            "                                                                 \n",
            "=================================================================\n",
            "Total params: 773,009\n",
            "Trainable params: 773,009\n",
            "Non-trainable params: 0\n",
            "_________________________________________________________________\n"
          ]
        }
      ]
    },
    {
      "cell_type": "code",
      "source": [
        "lr_schedule = tf.keras.optimizers.schedules.ExponentialDecay(\n",
        "    initial_learning_rate=1e-2,\n",
        "    decay_steps=1000,\n",
        "    decay_rate=0.80)\n",
        "optimizer = tf.keras.optimizers.Adam(learning_rate=lr_schedule)\n",
        "\n",
        "cnnLstmModel.compile('adam',loss = tf.keras.losses.SparseCategoricalCrossentropy(from_logits=True),metrics=['accuracy'])"
      ],
      "metadata": {
        "id": "R8for7LQjhDv"
      },
      "execution_count": 54,
      "outputs": []
    },
    {
      "cell_type": "code",
      "source": [
        "# Data generator to load small batches for Keras\n",
        "class DataGenerator(Sequence):\n",
        "    def __init__(self, x_set, y_set, batch_size):\n",
        "        self.x, self.y = x_set, y_set\n",
        "        self.batch_size = batch_size\n",
        "        self.indices = np.arange(self.x.shape[0])\n",
        "\n",
        "    def __len__(self):\n",
        "        return math.ceil(self.x.shape[0] / self.batch_size)\n",
        "\n",
        "    def __getitem__(self, idx):\n",
        "        inds = self.indices[idx * self.batch_size:(idx + 1) * self.batch_size]\n",
        "        batch_x = self.x[inds]\n",
        "        batch_y = self.y[inds]\n",
        "        return batch_x, batch_y\n",
        "    \n",
        "    def on_epoch_end(self):\n",
        "        np.random.shuffle(self.indices)        \n",
        "\n",
        "train_gen = DataGenerator(X_train, y_train, 128)\n",
        "valid_gen = DataGenerator(X_valid, y_valid, 128)\n",
        "test_gen = DataGenerator(X_test, y_test, 128)"
      ],
      "metadata": {
        "id": "KKluBcmOsurd"
      },
      "execution_count": 55,
      "outputs": []
    },
    {
      "cell_type": "code",
      "source": [
        "from sklearn.utils import compute_class_weight\n",
        "class_weights = compute_class_weight(\n",
        "                                        class_weight = \"balanced\",\n",
        "                                        classes = np.unique(y_train),\n",
        "                                        y = y_train                                                    \n",
        "                                    )\n",
        "class_weights = dict(zip(np.unique(y_train), class_weights))"
      ],
      "metadata": {
        "id": "p1BQp6YOctDM"
      },
      "execution_count": 56,
      "outputs": []
    },
    {
      "cell_type": "code",
      "source": [
        "# This callback will stop the training when there is no improvement in the loss for three consecutive epochs.\n",
        "callback = tf.keras.callbacks.EarlyStopping(monitor='val_loss', patience=5)\n",
        "\n",
        "history = cnnLstmModel.fit(train_gen,epochs=epochs,validation_data=valid_gen, callbacks=[callback], class_weight=class_weights)"
      ],
      "metadata": {
        "colab": {
          "base_uri": "https://localhost:8080/"
        },
        "id": "zWehJVBSYKQ5",
        "outputId": "06f2ec74-10fb-4626-9fa8-74536edb622f"
      },
      "execution_count": 57,
      "outputs": [
        {
          "output_type": "stream",
          "name": "stdout",
          "text": [
            "Epoch 1/40\n",
            "448/448 [==============================] - 35s 68ms/step - loss: 1.1522 - accuracy: 0.5293 - val_loss: 1.0296 - val_accuracy: 0.5512\n",
            "Epoch 2/40\n",
            "448/448 [==============================] - 29s 65ms/step - loss: 0.8663 - accuracy: 0.6624 - val_loss: 0.7656 - val_accuracy: 0.6900\n",
            "Epoch 3/40\n",
            "448/448 [==============================] - 29s 65ms/step - loss: 0.7621 - accuracy: 0.7157 - val_loss: 0.6318 - val_accuracy: 0.7586\n",
            "Epoch 4/40\n",
            "448/448 [==============================] - 29s 65ms/step - loss: 0.6878 - accuracy: 0.7591 - val_loss: 0.6399 - val_accuracy: 0.7575\n",
            "Epoch 5/40\n",
            "448/448 [==============================] - 29s 65ms/step - loss: 0.6406 - accuracy: 0.7818 - val_loss: 0.5278 - val_accuracy: 0.8034\n",
            "Epoch 6/40\n",
            "448/448 [==============================] - 29s 65ms/step - loss: 0.6145 - accuracy: 0.7921 - val_loss: 0.5587 - val_accuracy: 0.7967\n",
            "Epoch 7/40\n",
            "448/448 [==============================] - 29s 65ms/step - loss: 0.5809 - accuracy: 0.8015 - val_loss: 0.5225 - val_accuracy: 0.7925\n",
            "Epoch 8/40\n",
            "448/448 [==============================] - 29s 65ms/step - loss: 0.5408 - accuracy: 0.8154 - val_loss: 0.5748 - val_accuracy: 0.7555\n",
            "Epoch 9/40\n",
            "448/448 [==============================] - 29s 65ms/step - loss: 0.5264 - accuracy: 0.8194 - val_loss: 0.4726 - val_accuracy: 0.8344\n",
            "Epoch 10/40\n",
            "448/448 [==============================] - 29s 65ms/step - loss: 0.5002 - accuracy: 0.8304 - val_loss: 0.4808 - val_accuracy: 0.8167\n",
            "Epoch 11/40\n",
            "448/448 [==============================] - 29s 65ms/step - loss: 0.4719 - accuracy: 0.8367 - val_loss: 0.4501 - val_accuracy: 0.8364\n",
            "Epoch 12/40\n",
            "448/448 [==============================] - 29s 65ms/step - loss: 0.4567 - accuracy: 0.8418 - val_loss: 0.4337 - val_accuracy: 0.8463\n",
            "Epoch 13/40\n",
            "448/448 [==============================] - 29s 65ms/step - loss: 0.4480 - accuracy: 0.8453 - val_loss: 0.4118 - val_accuracy: 0.8500\n",
            "Epoch 14/40\n",
            "448/448 [==============================] - 29s 65ms/step - loss: 0.4218 - accuracy: 0.8544 - val_loss: 0.4003 - val_accuracy: 0.8483\n",
            "Epoch 15/40\n",
            "448/448 [==============================] - 29s 65ms/step - loss: 0.4087 - accuracy: 0.8568 - val_loss: 0.3826 - val_accuracy: 0.8527\n",
            "Epoch 16/40\n",
            "448/448 [==============================] - 29s 65ms/step - loss: 0.3889 - accuracy: 0.8647 - val_loss: 0.4048 - val_accuracy: 0.8432\n",
            "Epoch 17/40\n",
            "448/448 [==============================] - 29s 65ms/step - loss: 0.3833 - accuracy: 0.8660 - val_loss: 0.3736 - val_accuracy: 0.8643\n",
            "Epoch 18/40\n",
            "448/448 [==============================] - 29s 65ms/step - loss: 0.3641 - accuracy: 0.8721 - val_loss: 0.3617 - val_accuracy: 0.8633\n",
            "Epoch 19/40\n",
            "448/448 [==============================] - 29s 65ms/step - loss: 0.3458 - accuracy: 0.8788 - val_loss: 0.3788 - val_accuracy: 0.8654\n",
            "Epoch 20/40\n",
            "448/448 [==============================] - 29s 65ms/step - loss: 0.3439 - accuracy: 0.8798 - val_loss: 0.3863 - val_accuracy: 0.8605\n",
            "Epoch 21/40\n",
            "448/448 [==============================] - 29s 65ms/step - loss: 0.3384 - accuracy: 0.8799 - val_loss: 0.4517 - val_accuracy: 0.8399\n",
            "Epoch 22/40\n",
            "448/448 [==============================] - 29s 65ms/step - loss: 0.3135 - accuracy: 0.8885 - val_loss: 0.3974 - val_accuracy: 0.8542\n",
            "Epoch 23/40\n",
            "448/448 [==============================] - 29s 65ms/step - loss: 0.3035 - accuracy: 0.8910 - val_loss: 0.3964 - val_accuracy: 0.8687\n"
          ]
        }
      ]
    },
    {
      "cell_type": "code",
      "source": [
        "cnnLstmModel.evaluate(test_gen)"
      ],
      "metadata": {
        "colab": {
          "base_uri": "https://localhost:8080/"
        },
        "id": "9fD3H5iYe8-x",
        "outputId": "fd5c2fe1-1b6c-4be6-d69a-5e4db1302904"
      },
      "execution_count": 58,
      "outputs": [
        {
          "output_type": "stream",
          "name": "stdout",
          "text": [
            "56/56 [==============================] - 1s 25ms/step - loss: 0.3862 - accuracy: 0.8673\n"
          ]
        },
        {
          "output_type": "execute_result",
          "data": {
            "text/plain": [
              "[0.3861566185951233, 0.8672804236412048]"
            ]
          },
          "metadata": {},
          "execution_count": 58
        }
      ]
    },
    {
      "cell_type": "code",
      "source": [
        "cnnLstmModel.save(\"drive/MyDrive/CS-7643-FinalProject/cnnLstmModel_87pct_FINAL\")"
      ],
      "metadata": {
        "id": "6VyZduKoydF2",
        "colab": {
          "base_uri": "https://localhost:8080/"
        },
        "outputId": "0dbd2577-de53-43b0-dae5-aa52f6060144"
      },
      "execution_count": 69,
      "outputs": [
        {
          "output_type": "stream",
          "name": "stderr",
          "text": [
            "WARNING:absl:Found untraced functions such as lstm_cell_2_layer_call_fn, lstm_cell_2_layer_call_and_return_conditional_losses, lstm_cell_3_layer_call_fn, lstm_cell_3_layer_call_and_return_conditional_losses while saving (showing 4 of 4). These functions will not be directly callable after loading.\n"
          ]
        },
        {
          "output_type": "stream",
          "name": "stdout",
          "text": [
            "INFO:tensorflow:Assets written to: drive/MyDrive/CS-7643-FinalProject/cnnLstmModel_87pct_FINAL/assets\n"
          ]
        },
        {
          "output_type": "stream",
          "name": "stderr",
          "text": [
            "INFO:tensorflow:Assets written to: drive/MyDrive/CS-7643-FinalProject/cnnLstmModel_87pct_FINAL/assets\n",
            "WARNING:absl:<keras.layers.recurrent.LSTMCell object at 0x7f0d75fa4850> has the same name 'LSTMCell' as a built-in Keras object. Consider renaming <class 'keras.layers.recurrent.LSTMCell'> to avoid naming conflicts when loading with `tf.keras.models.load_model`. If renaming is not possible, pass the object in the `custom_objects` parameter of the load function.\n",
            "WARNING:absl:<keras.layers.recurrent.LSTMCell object at 0x7f0d75fb4850> has the same name 'LSTMCell' as a built-in Keras object. Consider renaming <class 'keras.layers.recurrent.LSTMCell'> to avoid naming conflicts when loading with `tf.keras.models.load_model`. If renaming is not possible, pass the object in the `custom_objects` parameter of the load function.\n"
          ]
        }
      ]
    },
    {
      "cell_type": "code",
      "source": [
        "plt.plot(history.history['accuracy'], 'r', history.history['val_accuracy'], 'b')"
      ],
      "metadata": {
        "colab": {
          "base_uri": "https://localhost:8080/",
          "height": 300
        },
        "id": "0bvLKZ6ayhTI",
        "outputId": "c44d6a42-825a-4ca2-ab30-bcdf6fc7787d"
      },
      "execution_count": 60,
      "outputs": [
        {
          "output_type": "execute_result",
          "data": {
            "text/plain": [
              "[<matplotlib.lines.Line2D at 0x7f0d38a8dc90>,\n",
              " <matplotlib.lines.Line2D at 0x7f0d38a97dd0>]"
            ]
          },
          "metadata": {},
          "execution_count": 60
        },
        {
          "output_type": "display_data",
          "data": {
            "text/plain": [
              "<Figure size 432x288 with 1 Axes>"
            ],
            "image/png": "[encoded data removed]"
          },
          "metadata": {
            "needs_background": "light"
          }
        }
      ]
    },
    {
      "cell_type": "code",
      "source": [
        "plt.plot(history.history['loss'], 'r', history.history['val_loss'], 'b')"
      ],
      "metadata": {
        "colab": {
          "base_uri": "https://localhost:8080/",
          "height": 300
        },
        "id": "vtozZfQcykTv",
        "outputId": "41fd110c-3968-40a7-b229-a12edc199de7"
      },
      "execution_count": 61,
      "outputs": [
        {
          "output_type": "execute_result",
          "data": {
            "text/plain": [
              "[<matplotlib.lines.Line2D at 0x7f0d38a01b90>,\n",
              " <matplotlib.lines.Line2D at 0x7f0d38a0ac10>]"
            ]
          },
          "metadata": {},
          "execution_count": 61
        },
        {
          "output_type": "display_data",
          "data": {
            "text/plain": [
              "<Figure size 432x288 with 1 Axes>"
            ],
            "image/png": "[encoded data removed]"
          },
          "metadata": {
            "needs_background": "light"
          }
        }
      ]
    },
    {
      "cell_type": "code",
      "source": [
        "y_pred = cnnLstmModel.predict(X_test)\n",
        "y_pred = y_pred.argmax(axis=-1)"
      ],
      "metadata": {
        "id": "_7KzhbbhymGa"
      },
      "execution_count": 62,
      "outputs": []
    },
    {
      "cell_type": "code",
      "source": [
        "metrics.confusion_matrix(y_pred, y_test)"
      ],
      "metadata": {
        "colab": {
          "base_uri": "https://localhost:8080/"
        },
        "id": "zeAVX3THyqFx",
        "outputId": "9ed72c42-fc5c-4a41-fe73-e9fc0af2f429"
      },
      "execution_count": 63,
      "outputs": [
        {
          "output_type": "execute_result",
          "data": {
            "text/plain": [
              "array([[1693,   20,   11,    1,   10],\n",
              "       [ 163,  340,  155,    1,   81],\n",
              "       [  20,   82, 2020,  135,   41],\n",
              "       [   0,    0,   76, 1230,    0],\n",
              "       [  12,   73,   56,    0,  840]])"
            ]
          },
          "metadata": {},
          "execution_count": 63
        }
      ]
    },
    {
      "cell_type": "code",
      "source": [
        "matrix = metrics.confusion_matrix(y_test, y_pred)\n",
        "matrix.diagonal()/matrix.sum(axis=1)"
      ],
      "metadata": {
        "colab": {
          "base_uri": "https://localhost:8080/"
        },
        "id": "6UvLjmkkywTc",
        "outputId": "d20694b5-93e7-4235-a79d-5683ac6d6071"
      },
      "execution_count": 64,
      "outputs": [
        {
          "output_type": "execute_result",
          "data": {
            "text/plain": [
              "array([0.8967161 , 0.66019417, 0.8714409 , 0.89978054, 0.86419753])"
            ]
          },
          "metadata": {},
          "execution_count": 64
        }
      ]
    },
    {
      "cell_type": "code",
      "source": [
        "metrics.ConfusionMatrixDisplay.from_predictions(y_test, y_pred)"
      ],
      "metadata": {
        "colab": {
          "base_uri": "https://localhost:8080/",
          "height": 298
        },
        "id": "fRZYlAZpy5ke",
        "outputId": "84b15b8b-1c4e-45df-9111-f1f0bd976b58"
      },
      "execution_count": 65,
      "outputs": [
        {
          "output_type": "execute_result",
          "data": {
            "text/plain": [
              "<sklearn.metrics._plot.confusion_matrix.ConfusionMatrixDisplay at 0x7f0d389d8ed0>"
            ]
          },
          "metadata": {},
          "execution_count": 65
        },
        {
          "output_type": "display_data",
          "data": {
            "text/plain": [
              "<Figure size 432x288 with 2 Axes>"
            ],
            "image/png": "[encoded data removed]"
          },
          "metadata": {
            "needs_background": "light"
          }
        }
      ]
    },
    {
      "cell_type": "code",
      "source": [
        "from sklearn.metrics import classification_report\n",
        "print(classification_report(y_test, y_pred))"
      ],
      "metadata": {
        "colab": {
          "base_uri": "https://localhost:8080/"
        },
        "id": "uL0MNIBLJLf-",
        "outputId": "31a325a3-05fc-4e1a-a1ea-752268a3da60"
      },
      "execution_count": 66,
      "outputs": [
        {
          "output_type": "stream",
          "name": "stdout",
          "text": [
            "              precision    recall  f1-score   support\n",
            "\n",
            "           0       0.98      0.90      0.93      1888\n",
            "           1       0.46      0.66      0.54       515\n",
            "           2       0.88      0.87      0.88      2318\n",
            "           3       0.94      0.90      0.92      1367\n",
            "           4       0.86      0.86      0.86       972\n",
            "\n",
            "    accuracy                           0.87      7060\n",
            "   macro avg       0.82      0.84      0.83      7060\n",
            "weighted avg       0.88      0.87      0.87      7060\n",
            "\n"
          ]
        }
      ]
    },
    {
      "cell_type": "code",
      "source": [
        "per_class_accuracies = {}\n",
        "\n",
        "for idx, cls in enumerate([0,1,2,3,4]):\n",
        "    # True negatives are all the samples that are not our current GT class (not the current row) \n",
        "    # and were not predicted as the current class (not the current column)\n",
        "    true_negatives = np.sum(np.delete(np.delete(matrix, idx, axis=0), idx, axis=1))\n",
        "    \n",
        "    # True positives are all the samples of our current GT class that were predicted as such\n",
        "    true_positives = matrix[idx, idx]\n",
        "    \n",
        "    # The accuracy for the current class is ratio between correct predictions to all predictions\n",
        "    per_class_accuracies[cls] = (true_positives + true_negatives) / np.sum(matrix)"
      ],
      "metadata": {
        "id": "oMrz388IALkn"
      },
      "execution_count": 67,
      "outputs": []
    },
    {
      "cell_type": "code",
      "source": [
        "per_class_accuracies"
      ],
      "metadata": {
        "colab": {
          "base_uri": "https://localhost:8080/"
        },
        "id": "jvk4Y_R6ALgQ",
        "outputId": "6aa8fe77-1575-46e6-b80c-f09a4184810a"
      },
      "execution_count": 68,
      "outputs": [
        {
          "output_type": "execute_result",
          "data": {
            "text/plain": [
              "{0: 0.9664305949008498,\n",
              " 1: 0.9185552407932012,\n",
              " 2: 0.918413597733711,\n",
              " 3: 0.9698300283286119,\n",
              " 4: 0.9613314447592068}"
            ]
          },
          "metadata": {},
          "execution_count": 68
        }
      ]
    },
    {
      "cell_type": "code",
      "source": [
        "# !pip3 install keras-visualizer\n",
        "#"
      ],
      "metadata": {
        "id": "WkWxNCl6-5EH"
      },
      "execution_count": 37,
      "outputs": []
    },
    {
      "cell_type": "code",
      "source": [
        "tf.keras.utils.plot_model(\n",
        "    cnnLstmModel,\n",
        "    to_file=\"model.png\",\n",
        "    show_shapes=False,\n",
        "    show_dtype=False,\n",
        "    show_layer_names=False,\n",
        "    rankdir=\"TB\",\n",
        "    expand_nested=False,\n",
        "    dpi=96,\n",
        "    layer_range=None,\n",
        "    show_layer_activations=True,\n",
        ")"
      ],
      "metadata": {
        "colab": {
          "base_uri": "https://localhost:8080/",
          "height": 1000
        },
        "id": "SquV0XyIt20Q",
        "outputId": "5f76f887-ae5f-4db5-d5c6-87b17496b9c6"
      },
      "execution_count": 38,
      "outputs": [
        {
          "output_type": "execute_result",
          "data": {
            "text/plain": [
              "<IPython.core.display.Image object>"
            ],
            "image/png": "[encoded data removed]"
          },
          "metadata": {},
          "execution_count": 38
        }
      ]
    },
    {
      "cell_type": "code",
      "source": [
        ""
      ],
      "metadata": {
        "id": "E0_HaQjf9rHe"
      },
      "execution_count": 38,
      "outputs": []
    },
    {
      "cell_type": "code",
      "source": [
        ""
      ],
      "metadata": {
        "id": "Y0LKiMQrkBwV"
      },
      "execution_count": 38,
      "outputs": []
    },
    {
      "cell_type": "code",
      "source": [
        ""
      ],
      "metadata": {
        "id": "z9OBiEY7kBzb"
      },
      "execution_count": 38,
      "outputs": []
    }
  ]
}